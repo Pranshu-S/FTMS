{
 "cells": [
  {
   "cell_type": "code",
   "execution_count": null,
   "id": "alone-kennedy",
   "metadata": {},
   "outputs": [],
   "source": [
    "import sqlite3 "
   ]
  },
  {
   "cell_type": "code",
   "execution_count": 2,
   "id": "composite-adams",
   "metadata": {},
   "outputs": [],
   "source": [
    "#Inputing Data"
   ]
  },
  {
   "cell_type": "code",
   "execution_count": 3,
   "id": "comfortable-milton",
   "metadata": {},
   "outputs": [],
   "source": [
    "connection = sqlite3.connect(\"FTMS.db\") "
   ]
  },
  {
   "cell_type": "code",
   "execution_count": 4,
   "id": "leading-exposure",
   "metadata": {},
   "outputs": [],
   "source": [
    "crsr = connection.cursor() "
   ]
  },
  {
   "cell_type": "code",
   "execution_count": 5,
   "id": "military-montana",
   "metadata": {},
   "outputs": [],
   "source": [
    "sql_command = \"\"\"CREATE TABLE emp (  \n",
    "staff_number INTEGER PRIMARY KEY,  \n",
    "fname VARCHAR(20),  \n",
    "lname VARCHAR(30),  \n",
    "gender CHAR(1),  \n",
    "joining DATE);\"\"\""
   ]
  },
  {
   "cell_type": "code",
   "execution_count": 6,
   "id": "conventional-history",
   "metadata": {},
   "outputs": [
    {
     "data": {
      "text/plain": [
       "<sqlite3.Cursor at 0x7f2d651d7f10>"
      ]
     },
     "execution_count": 6,
     "metadata": {},
     "output_type": "execute_result"
    }
   ],
   "source": [
    "crsr.execute(sql_command) \n"
   ]
  },
  {
   "cell_type": "code",
   "execution_count": 7,
   "id": "noble-tumor",
   "metadata": {},
   "outputs": [
    {
     "data": {
      "text/plain": [
       "<sqlite3.Cursor at 0x7f2d651d7f10>"
      ]
     },
     "execution_count": 7,
     "metadata": {},
     "output_type": "execute_result"
    }
   ],
   "source": [
    "sql_command = \"\"\"INSERT INTO emp VALUES (23, \"Rishabh\", \"Bansal\", \"M\", \"2014-03-28\");\"\"\"\n",
    "crsr.execute(sql_command)"
   ]
  },
  {
   "cell_type": "code",
   "execution_count": 8,
   "id": "arbitrary-shore",
   "metadata": {},
   "outputs": [
    {
     "data": {
      "text/plain": [
       "<sqlite3.Cursor at 0x7f2d651d7f10>"
      ]
     },
     "execution_count": 8,
     "metadata": {},
     "output_type": "execute_result"
    }
   ],
   "source": [
    "sql_command = \"\"\"INSERT INTO emp VALUES (1, \"Bill\", \"Gates\", \"M\", \"1980-10-28\");\"\"\"\n",
    "crsr.execute(sql_command) "
   ]
  },
  {
   "cell_type": "code",
   "execution_count": 9,
   "id": "touched-cover",
   "metadata": {},
   "outputs": [],
   "source": [
    "connection.commit() "
   ]
  },
  {
   "cell_type": "code",
   "execution_count": 10,
   "id": "verbal-beverage",
   "metadata": {},
   "outputs": [],
   "source": [
    "connection.close() "
   ]
  },
  {
   "cell_type": "code",
   "execution_count": 11,
   "id": "likely-glucose",
   "metadata": {},
   "outputs": [],
   "source": [
    "#Fetching Data"
   ]
  },
  {
   "cell_type": "code",
   "execution_count": 12,
   "id": "complex-kennedy",
   "metadata": {},
   "outputs": [
    {
     "name": "stdout",
     "output_type": "stream",
     "text": [
      "[(1, 'Bill', 'Gates', 'M', '1980-10-28'), (23, 'Rishabh', 'Bansal', 'M', '2014-03-28')]\n"
     ]
    }
   ],
   "source": [
    "connection = sqlite3.connect(\"FTMS.db\") \n",
    "  \n",
    "# cursor object \n",
    "crsr = connection.cursor() \n",
    "  \n",
    "# execute the command to fetch all the data from the table emp \n",
    "crsr.execute(\"SELECT * FROM emp\")  \n",
    "  \n",
    "# store all the fetched data in the ans variable \n",
    "ans = crsr.fetchall()  \n",
    "  \n",
    "# Since we have already selected all the data entries  \n",
    "# using the \"SELECT *\" SQL command and stored them in  \n",
    "# the ans variable, all we need to do now is to print  \n",
    "# out the ans variable \n",
    "print(ans) "
   ]
  },
  {
   "cell_type": "code",
   "execution_count": 13,
   "id": "expressed-amino",
   "metadata": {},
   "outputs": [],
   "source": [
    "connection.close() "
   ]
  },
  {
   "cell_type": "code",
   "execution_count": null,
   "id": "human-translation",
   "metadata": {},
   "outputs": [],
   "source": []
  }
 ],
 "metadata": {
  "kernelspec": {
   "display_name": "Python 3",
   "language": "python",
   "name": "python3"
  },
  "language_info": {
   "codemirror_mode": {
    "name": "ipython",
    "version": 3
   },
   "file_extension": ".py",
   "mimetype": "text/x-python",
   "name": "python",
   "nbconvert_exporter": "python",
   "pygments_lexer": "ipython3",
   "version": "3.9.2"
  }
 },
 "nbformat": 4,
 "nbformat_minor": 5
}
