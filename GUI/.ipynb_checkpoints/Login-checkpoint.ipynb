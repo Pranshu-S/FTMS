{
 "cells": [
  {
   "cell_type": "code",
   "execution_count": 1,
   "id": "friendly-elements",
   "metadata": {},
   "outputs": [],
   "source": [
    "# Import Tkinter Module\n",
    "from tkinter import *\n",
    "\n",
    "from PIL import ImageTk"
   ]
  },
  {
   "cell_type": "code",
   "execution_count": null,
   "id": "alien-journal",
   "metadata": {},
   "outputs": [],
   "source": [
    "# Create Login Class\n",
    "class Login:\n",
    "    def __init__(self,root):\n",
    "        self.root = root\n",
    "        self.root.title(\"FTMS Login\")\n",
    "        self.root.geometry(\"1024x640\")\n",
    "        self.root.resizable(False,False)\n",
    "        \n",
    "        # Background Image\n",
    "        self.bg =  ImageTk.PhotoImage(file=\"Login_img.jpg\")\n",
    "        self.bg_image = Label(self.root, image=self.bg).place(x=0,y=0,relwidth=1,relheight=1 )\n",
    "        \n",
    "        # Login Frames\n",
    "        Frame_login=Frame(self.root, bg=\"white\")\n",
    "        Frame_login.place(x=450, y=100, height=340, width=500)\n",
    "        \n",
    "# Create Tkinter object\n",
    "root = Tk()\n",
    "\n",
    "# Make Login object\n",
    "obj = Login(root)\n",
    "\n",
    "root.mainloop()"
   ]
  },
  {
   "cell_type": "code",
   "execution_count": null,
   "id": "aware-catch",
   "metadata": {},
   "outputs": [],
   "source": []
  }
 ],
 "metadata": {
  "kernelspec": {
   "display_name": "Python 3",
   "language": "python",
   "name": "python3"
  },
  "language_info": {
   "codemirror_mode": {
    "name": "ipython",
    "version": 3
   },
   "file_extension": ".py",
   "mimetype": "text/x-python",
   "name": "python",
   "nbconvert_exporter": "python",
   "pygments_lexer": "ipython3",
   "version": "3.9.2"
  }
 },
 "nbformat": 4,
 "nbformat_minor": 5
}
