{
 "cells": [
  {
   "cell_type": "code",
   "execution_count": 1,
   "metadata": {},
   "outputs": [
    {
     "data": {
      "text/plain": [
       "<sqlite3.Cursor at 0x27cb53918f0>"
      ]
     },
     "execution_count": 1,
     "metadata": {},
     "output_type": "execute_result"
    }
   ],
   "source": [
    "import sqlite3                        #Creating table FARMER\n",
    "conn=sqlite3.connect('FTMS.db')\n",
    "crsr=conn.cursor()\n",
    "crt_cmd='''CREATE TABLE FARMER(\n",
    "F_ID VARCHAR(20),\n",
    "PWD VARCHAR(15) NOT NULL,\n",
    "NAME VARCHAR(40) NOT NULL,\n",
    "LOCATION VARCHAR(15) NOT NULL,\n",
    "CONTACT CHAR(10) NOT NULL,\n",
    "PRIMARY KEY (F_ID),\n",
    "CHECK (LENGTH(CONTACT)=10)\n",
    ");'''\n",
    "crsr.execute(crt_cmd)\n",
    "# conn.close()"
   ]
  },
  {
   "cell_type": "markdown",
   "metadata": {},
   "source": [
    "### Table for Crop"
   ]
  },
  {
   "cell_type": "code",
   "execution_count": 2,
   "metadata": {},
   "outputs": [
    {
     "data": {
      "text/plain": [
       "<sqlite3.Cursor at 0x27cb53918f0>"
      ]
     },
     "execution_count": 2,
     "metadata": {},
     "output_type": "execute_result"
    }
   ],
   "source": [
    "sql_cmd = '''CREATE TABLE CROP(\n",
    "CROP_ID INT NOT NULL,\n",
    "CROP_NAME VARCHAR(30) NOT NULL,\n",
    "PRIMARY KEY (CROP_ID)); '''\n",
    "crsr.execute(sql_cmd)"
   ]
  },
  {
   "cell_type": "markdown",
   "metadata": {},
   "source": [
    "### Table for Crop Grown"
   ]
  },
  {
   "cell_type": "code",
   "execution_count": 3,
   "metadata": {},
   "outputs": [
    {
     "data": {
      "text/plain": [
       "<sqlite3.Cursor at 0x27cb53918f0>"
      ]
     },
     "execution_count": 3,
     "metadata": {},
     "output_type": "execute_result"
    }
   ],
   "source": [
    "sql_cmd = '''CREATE TABLE CROP_GROWN(\n",
    "F_ID VARCHAR(20) NOT NULL,\n",
    "CROP_ID INT NOT NULL,\n",
    "PRIMARY KEY (F_ID,CROP_ID),\n",
    "FOREIGN KEY (F_ID) REFERENCES FARMER(F_ID),\n",
    "FOREIGN KEY (CROP_ID) REFERENCES CROP(CROP_ID));'''\n",
    "crsr.execute(sql_cmd)"
   ]
  },
  {
   "cell_type": "markdown",
   "metadata": {},
   "source": [
    "### Table for Quotations"
   ]
  },
  {
   "cell_type": "code",
   "execution_count": 4,
   "metadata": {},
   "outputs": [
    {
     "data": {
      "text/plain": [
       "<sqlite3.Cursor at 0x27cb53918f0>"
      ]
     },
     "execution_count": 4,
     "metadata": {},
     "output_type": "execute_result"
    }
   ],
   "source": [
    "sql_cmd = '''CREATE TABLE QUOTATIONS(\n",
    "B_ID VARCHAR(20) NOT NULL,\n",
    "CROP_ID INT NOT NULL,\n",
    "AMT FLOAT NOT NULL,\n",
    "TIMESTAMP DATETIME DEFAULT CURRENT_TIMESTAMP NOT NULL,\n",
    "PRIMARY KEY (B_ID,CROP_ID),\n",
    "CHECK (AMT > 0));'''\n",
    "crsr.execute(sql_cmd)"
   ]
  },
  {
   "cell_type": "markdown",
   "metadata": {},
   "source": []
  },
  {
   "cell_type": "code",
   "execution_count": 5,
   "metadata": {},
   "outputs": [
    {
     "data": {
      "text/plain": [
       "<sqlite3.Cursor at 0x27cb53918f0>"
      ]
     },
     "execution_count": 5,
     "metadata": {},
     "output_type": "execute_result"
    }
   ],
   "source": [
    "#Creating table Buyer\n",
    "crt_cmd='''CREATE TABLE BUYER(\n",
    "B_ID VARCHAR(20),\n",
    "PWD VARCHAR(15) NOT NULL,\n",
    "B_NAME VARCHAR(40) NOT NULL,\n",
    "LOCATION VARCHAR(15) NOT NULL,\n",
    "CONTACT CHAR(10) NOT NULL,\n",
    "PRIMARY KEY(B_ID),\n",
    "CHECK (LENGTH(CONTACT)=10)\n",
    ");'''\n",
    "crsr.execute(crt_cmd)"
   ]
  },
  {
   "cell_type": "code",
   "execution_count": 6,
   "metadata": {},
   "outputs": [
    {
     "data": {
      "text/plain": [
       "<sqlite3.Cursor at 0x27cb53918f0>"
      ]
     },
     "execution_count": 6,
     "metadata": {},
     "output_type": "execute_result"
    }
   ],
   "source": [
    "crt_cmd='''CREATE TABLE TRANS(\n",
    "T_ID INT NOT NULL,\n",
    "F_ID VARCHAR(20) NOT NULL,\n",
    "B_ID VARCHAR(20) NOT NULL,\n",
    "CROP_ID INT NOT NULL,\n",
    "AMT FLOAT NOT NULL,\n",
    "QTY FLOAT NOT NULL,\n",
    "TIMESTAMP DATETIME DEFAULT CURRENT_TIMESTAMP,\n",
    "PRIMARY KEY(T_ID),\n",
    "FOREIGN KEY(F_ID) REFERENCES FARMER(F_ID),\n",
    "FOREIGN KEY(B_ID) REFERENCES BUYER(B_ID),\n",
    "FOREIGN KEY(CROP_ID) REFERENCES CROP(CROP_ID)\n",
    "CHECK(AMT>0),\n",
    "CHECK(QTY>0)\n",
    ");'''\n",
    "crsr.execute(crt_cmd)"
   ]
  },
  {
   "cell_type": "code",
   "execution_count": 7,
   "metadata": {},
   "outputs": [],
   "source": [
    "conn.commit()\n",
    "conn.close()"
   ]
  }
 ],
 "metadata": {
  "kernelspec": {
   "display_name": "Python 3",
   "language": "python",
   "name": "python3"
  },
  "language_info": {
   "codemirror_mode": {
    "name": "ipython",
    "version": 3
   },
   "file_extension": ".py",
   "mimetype": "text/x-python",
   "name": "python",
   "nbconvert_exporter": "python",
   "pygments_lexer": "ipython3",
   "version": "3.8.3"
  }
 },
 "nbformat": 4,
 "nbformat_minor": 4
}
