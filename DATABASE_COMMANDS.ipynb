{
 "cells": [
  {
   "cell_type": "code",
   "execution_count": 4,
   "metadata": {},
   "outputs": [],
   "source": [
    "import sqlite3                        #Creating table FARMER\n",
    "conn=sqlite3.connect('FTMS.db')\n",
    "crsr=conn.cursor()\n",
    "crt_cmd='''CREATE TABLE FARMER(\n",
    "F_ID VARCHAR(20),\n",
    "PWD VARCHAR(15) NOT NULL,\n",
    "NAME VARCHAR(40) NOT NULL,\n",
    "LOCATION VARCHAR(15) NOT NULL,\n",
    "CONTACT CHAR(10) NOT NULL,\n",
    "PRIMARY KEY (F_ID),\n",
    "CHECK (LENGTH(CONTACT)=10)\n",
    ");'''\n",
    "crsr.execute(crt_cmd)\n",
    "conn.commit()\n",
    "conn.close()"
   ]
  },
  {
   "cell_type": "code",
   "execution_count": null,
   "metadata": {},
   "outputs": [],
   "source": []
  }
 ],
 "metadata": {
  "kernelspec": {
   "display_name": "Python 3",
   "language": "python",
   "name": "python3"
  },
  "language_info": {
   "codemirror_mode": {
    "name": "ipython",
    "version": 3
   },
   "file_extension": ".py",
   "mimetype": "text/x-python",
   "name": "python",
   "nbconvert_exporter": "python",
   "pygments_lexer": "ipython3",
   "version": "3.8.3"
  }
 },
 "nbformat": 4,
 "nbformat_minor": 4
}
